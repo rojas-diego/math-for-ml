{
 "cells": [
  {
   "cell_type": "markdown",
   "metadata": {},
   "source": [
    "# Solving systems of linear equations\n",
    "\n",
    "> 💜 A *particular solution* of a linear system is a solution to the equation with particular, arbitrary values.\n",
    "\n",
    "> 💜 A *general solution* of a system of linear equations is a formula which gives all solutions for different values of parameters. It can be found using the follwing steps\n",
    ">\n",
    "> 1. Find a particular solution to $Ax = b$\n",
    "> 2. Find all solution to $Ax = \\boldsymbol{0}$\n",
    "> 3. Combine the solutions from steps 1. and 2. to the general solution.\n",
    "\n",
    "### Elementary transformations\n",
    "\n",
    "Elementary transformations keep the solution set the same but transforms a linear system into a simpler form.\n"
   ]
  }
 ],
 "metadata": {
  "language_info": {
   "name": "python"
  },
  "orig_nbformat": 4
 },
 "nbformat": 4,
 "nbformat_minor": 2
}
