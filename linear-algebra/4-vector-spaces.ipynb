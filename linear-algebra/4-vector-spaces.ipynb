{
 "cells": [
  {
   "cell_type": "markdown",
   "metadata": {},
   "source": [
    "# Vector spaces\n",
    "\n",
    "A structured space in which vectors live."
   ]
  },
  {
   "cell_type": "markdown",
   "metadata": {},
   "source": [
    "### Groups\n",
    "\n",
    "> 💙 Consider a set $\\mathcal{G}$ and an operation $\\otimes : \\mathcal{G} \\times \\mathcal{G} \\rarr \\mathcal{G}$ defined on $\\mathcal{G}$. Then $G := (\\mathcal{G}, \\otimes)$ is called a *group* in the following hold:\n",
    ">\n",
    "> 1. *Closure* of $\\mathcal{G}$ under $\\otimes : \\forall x, y \\in \\mathcal{G} : x \\otimes y \\in \\mathcal{G}$\n",
    "> 2. *Associativity*: $\\forall x, y \\in \\mathcal{G} : (x \\otimes y) \\otimes z = x \\otimes (y \\otimes z)$\n",
    "> 3. *Neutral element*: $\\exist e \\in \\mathcal{G} \\space \\forall x \\in \\mathcal{G} : x \\otimes e = x$ and $e \\otimes x = x$\n",
    "> 4. *Inverse element*: $\\forall x \\in \\mathcal{G} \\space \\exist y \\in \\mathcal{G} : x \\otimes y = e$ and $y \\otimes x = e$ where $e$ is the neutral element. We often write $x_{-1}$ to denote the inverse of $x$ (with respect to $\\otimes$, does not necessarily mean $\\frac{1}{x}$)\n",
    "\n",
    "> 💙 If additionally $\\forall x, y \\in \\mathcal{G} : x \\otimes y = y \\otimes x$, then $G = (\\mathcal{G}, \\otimes)$ is an *Abelian group* (commutative)."
   ]
  }
 ],
 "metadata": {
  "language_info": {
   "name": "python"
  },
  "orig_nbformat": 4
 },
 "nbformat": 4,
 "nbformat_minor": 2
}
