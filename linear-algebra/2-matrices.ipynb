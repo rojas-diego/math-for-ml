{
 "cells": [
  {
   "cell_type": "markdown",
   "metadata": {},
   "source": [
    "# Matrices\n",
    "\n",
    "A matrix is a rectangular tuple of elements with $m$ rows and $n$ columns where $m, n \\in \\N$.\n",
    "\n",
    "> 💚 $\\R^{m \\times n}$ is the set of all real-valued $(m, n)$ matrices.\n",
    "\n",
    "> 💚 $\\bm{A} \\in \\R^{m \\times n}$ can be represented as a vector $\\bm{a} \\in \\R^{mn}$ by stacking all $n$ columns into a long vector."
   ]
  },
  {
   "cell_type": "markdown",
   "metadata": {},
   "source": [
    "### Addition\n",
    "\n",
    "> 💚 The sum of two matrices $\\bm{A} \\in \\R^{m \\times n}, \\bm{B} \\in \\R^{m \\times n}$ is defined as an element-wise sum."
   ]
  },
  {
   "cell_type": "markdown",
   "metadata": {},
   "source": [
    "### Multiplication\n",
    "\n",
    "> 💙 For matrices $\\bm{A} \\in \\R^{m \\times n}, \\bm{B} \\in \\R^{n \\times k}$, the elements $c_{ij}$ of the product $\\bm{C} = \\bm{AB} \\in \\R^{m \\times k}$ are computed as:\n",
    "> \n",
    "> $\n",
    "> c_{ij} = \\sum\\limits_{l=1}^{n} = a_{il} b_{lj}, \\text{ where } i = 1, \\dots, m, \\text{ and } j = 1, \\dots, k.\n",
    "> $\n",
    "\n",
    "> 💚 Matrix multiplication is not commutative.\n",
    "\n",
    "Thus, $c_{ij}$ is equal to the dot product of the $i$ th row of $\\bm{A}$ and the $j$ th column of $\\bm{B}$.\n",
    "\n",
    "> 💚 Element wise multiplication of $\\bm{A}, \\bm{B} \\in \\R^{m \\times n}$ is called a *Hadamard product*."
   ]
  },
  {
   "cell_type": "markdown",
   "metadata": {},
   "source": [
    "### Identity matrix\n",
    "\n",
    "We define an identity matrix in $\\R^{n \\times n}$ as:\n",
    "\n",
    "$\n",
    "I_n := \\begin{bmatrix}\n",
    "    1 & \\cdots & 0 & \\cdots & 0 \\\\\n",
    "    \\vdots & \\ddots & \\vdots & \\ddots & \\vdots \\\\\n",
    "    0 & \\cdots & 1 & \\cdots & 0 \\\\\n",
    "    \\vdots & \\ddots & \\vdots & \\ddots & \\vdots \\\\\n",
    "    0 & \\cdots & 0 & \\cdots & 1\n",
    "\\end{bmatrix} \\in \\R^{n \\times n}\n",
    "$"
   ]
  },
  {
   "cell_type": "markdown",
   "metadata": {},
   "source": [
    "### Associativity\n",
    "\n",
    "> 💙 $\\forall \\bm{A} \\in \\R^{m \\times n}, \\bm{B} \\in \\R^{n \\times p}, \\bm{C} \\in \\R^{p \\times q} \\text{ : } (\\bm{AB})\\bm{C} = \\bm{A}(\\bm{BC})$"
   ]
  },
  {
   "cell_type": "markdown",
   "metadata": {},
   "source": [
    "### Distributivity\n",
    "\n",
    "> 💙 $\\forall \\bm{A}, \\bm{B} \\in \\R^{m \\times n}, \\bm{C}, \\bm{D} \\in \\R^{n \\times p}$ :\n",
    "> \\begin{align}(\\bm{A} + \\bm{B})\\bm{C} = \\bm{AC} + \\bm{BC} \\\\\n",
    "> \\bm{A} (\\bm{C} + \\bm{D}) = \\bm{AC} + \\bm{AD}\n",
    "> \\end{align}"
   ]
  },
  {
   "cell_type": "markdown",
   "metadata": {},
   "source": [
    "### Multiplication with identity matrix\n",
    "\n",
    "> 💙 $\\forall \\bm{A} \\in \\R^{m \\times n} : \\bm{I}_m \\bm{A} = \\bm{A} \\bm{I}_n = \\bm{A}$"
   ]
  },
  {
   "cell_type": "markdown",
   "metadata": {},
   "source": [
    "### Inverse\n",
    "\n",
    "> 💙 The inverse of a matrix $\\bm{A} \\in \\R^{n \\times n}$ denoted $\\bm{A}^{-1}$ is a unique matrix $\\bm{B} \\in \\R^{n \\times n}$ given $\\bm{AB} = \\bm{I}_n = \\bm{BA}$\n",
    "\n",
    "Unfortunately, not every matrix $\\bm{A}$ possesses an inverse $\\bm{A}^{−1}$. If this inverse does exist, $\\bm{A}$ is called *regular/invertible/nonsingular*, otherwise *singular/noninvertible*."
   ]
  },
  {
   "cell_type": "markdown",
   "metadata": {},
   "source": [
    "### Transpose\n",
    "\n",
    "> 💙 For $\\bm{A} \\in \\R^{m \\times n}$ the matrix $\\bm{B} \\in \\R^{n \\times m}$ with $b_{ij} = a_{ji}$ is called the transpose of $\\bm{A}$. We write $\\bm{B} = \\bm{A}^\\top$\n",
    "\n",
    "> 💜 The following are important properties of inverses and transposes\n",
    "> \\begin{align}\n",
    ">   \\bm{AA}^{-1} &= I = \\bm{A}^{-1}\\bm{A} \\\\\n",
    ">   \\bm{(AB)}^{-1} &= \\bm{B}^{-1} \\bm{A}^{-1} \\\\\n",
    ">   \\bm{A}^\\top \\bm{A}^\\top &= \\bm{A}  \\\\\n",
    ">   (\\bm{A} + \\bm{B})^\\top &= \\bm{A}^\\top + \\bm{B}^\\top \\\\\n",
    ">   (\\bm{AB})^\\top &= \\bm{A}^\\top \\bm{B}^\\top\n",
    "> \\end{align}\n",
    "\n",
    "> 💙 A matrix $\\bm{A} \\in \\R^{n \\times n}$ is said to be *symmetric* if $\\bm{A} = \\bm{A}^T$"
   ]
  },
  {
   "cell_type": "markdown",
   "metadata": {},
   "source": [
    "### Multiplication by a scalar\n",
    "\n",
    "> 💙 Let $\\bm{A} \\in \\R^{m \\times n}$ and $\\lambda \\in \\R$ then $\\lambda \\bm{A} = \\bm{K}, K_{ij} = \\lambda a_{ij}$\n",
    "\n",
    "> 💙 $(\\lambda \\psi)\\bm{C} = \\lambda(\\psi C)$\n",
    "\n",
    "> 💙 $\\lambda(\\bm{BC}) = (\\lambda B)\\bm{C} = \\bm{B}(\\lambda \\bm{C}) = (\\bm{BC}) \\lambda$ given $\\bm{B} \\in \\R^{m \\times n} \\bm{C} \\in \\R^{n \\times k}$\n",
    "\n",
    "> 💙 $(\\lambda + \\psi)\\bm{C} = \\lambda \\bm{C} + \\psi \\bm{C}$ given $\\bm{C} \\in \\R^{m \\times n}$\n",
    "\n",
    "> 💙 $\\lambda(\\bm{B} + \\bm{C}) = \\lambda \\bm{B} + \\lambda \\bm{C}$ given $\\bm{B}, \\bm{C} \\in \\R^{m \\times n}$"
   ]
  }
 ],
 "metadata": {
  "language_info": {
   "name": "python"
  },
  "orig_nbformat": 4
 },
 "nbformat": 4,
 "nbformat_minor": 2
}
