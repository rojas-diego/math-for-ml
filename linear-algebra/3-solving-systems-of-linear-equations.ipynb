{
 "cells": [
  {
   "cell_type": "markdown",
   "metadata": {},
   "source": [
    "# Solving systems of linear equations\n",
    "\n",
    "> 💜 A *particular solution* of a linear system is a solution to the equation with particular, arbitrary values.\n",
    "\n",
    "> 💜 A *general solution* of a system of linear equations is a formula which gives all solutions for different values of parameters. It can be found using the follwing steps\n",
    ">\n",
    "> 1. Find a particular solution to $Ax = b$\n",
    "> 2. Find all solution to $Ax = \\boldsymbol{0}$\n",
    "> 3. Combine the solutions from steps 1. and 2. to the general solution."
   ]
  },
  {
   "cell_type": "markdown",
   "metadata": {},
   "source": [
    "### Elementary transformations\n",
    "\n",
    "Elementary transformations keep the solution set the same but transforms a linear system into a simpler form.\n",
    "\n",
    "We can represent the following system of equations\n",
    "\n",
    "$\\begin{bmatrix}\n",
    "    a_{11} & \\cdots & a_{1n} \\\\\n",
    "    \\vdots & & \\vdots      \\\\\n",
    "    a_{m1} & \\cdots & a_{mn}\n",
    "\\end{bmatrix} \\begin{bmatrix}\n",
    "    x_{1} \\\\\n",
    "    \\vdots \\\\\n",
    "    x_{n}\n",
    "\\end{bmatrix} = \\begin{bmatrix}\n",
    "    b_{1} \\\\\n",
    "    \\vdots \\\\\n",
    "    b_{m}\n",
    "\\end{bmatrix}$\n",
    "\n",
    "Using this shorthand notation called the *augmented matrix* in the form $[\\bm{A} | \\bm{b}]$.\n",
    "\n",
    "$\\left[\\begin{array}{ccc|c}\n",
    "    a_{11} & \\cdots & a_{1n} & b_{1}  \\\\\n",
    "    \\vdots &        & \\vdots & \\vdots \\\\ \n",
    "    a_{m1} & \\cdots & a_{mn} & b_{m}\n",
    "\\end{array}\\right]$\n",
    "\n",
    "> 💜 Elementary transformation consists of three rules\n",
    ">\n",
    "> 1. Exchange of two equations (swapping rows in the matrix)\n",
    "> 2. Multiplication of an equation (row) with a constant $\\lambda \\in \\R \\backslash \\{0\\}$\n",
    "> 3. Addition of two equations (rows)\n",
    "\n",
    "> 💜 We use $\\leadsto$ to indicate a transformation of the augmented matrix using elementary transformations.\n",
    "\n",
    "For example\n",
    "\n",
    "$\\left[\\begin{array}{cc|c}\n",
    "    8 & 2 & 4  \\\\\n",
    "    5 & 0 & 0\n",
    "\\end{array}\\right] \\begin{matrix}\n",
    "    \\\\\n",
    "    \\cdot 2\n",
    "\\end{matrix} \\leadsto \\left[\\begin{array}{cc|c}\n",
    "    8 & 2 & 4  \\\\\n",
    "    10 & 0 & 0\n",
    "\\end{array}\\right]$"
   ]
  },
  {
   "cell_type": "markdown",
   "metadata": {},
   "source": [
    "### Row echelon form\n",
    "\n",
    "> 💜 The *leading coefficient* of a row (first nonzero number from the left) is called the *pivot* and is always strictly to the right of the pivot of the row above it.\n",
    "\n",
    "> 💜 A matrix being in row echelon form means that Gaussian elimination has operated on the rows or columns of that matrix such that:\n",
    ">\n",
    "> 1. All rows consisting of only zeroes are at the bottom.\n",
    "> 2. The *leading coefficient* (also called the *pivot*) of a nonzero row is always strictly to the right of the leading coefficient of the row above it.\n",
    "\n",
    "> 💜 The variables corresponding to the pivots in the row-echelon form are called *basic variables* and the other variables are *free variables*.\n",
    "\n",
    "> 💜 An equation is in *reduced row echelon form* (or *row cannonical form*) if every pivot is 1, the pivot is the only nonzero entry in its column."
   ]
  },
  {
   "cell_type": "markdown",
   "metadata": {},
   "source": [
    "### Gaussian eliminiation\n",
    "\n",
    "An algorithm that performs elementary transformations to bring a system of linear equations into reduced row-echelon form."
   ]
  }
 ],
 "metadata": {
  "language_info": {
   "name": "python"
  },
  "orig_nbformat": 4
 },
 "nbformat": 4,
 "nbformat_minor": 2
}
