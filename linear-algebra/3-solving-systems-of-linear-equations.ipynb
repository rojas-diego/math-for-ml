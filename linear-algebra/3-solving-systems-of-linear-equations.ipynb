{
 "cells": [
  {
   "cell_type": "markdown",
   "metadata": {},
   "source": [
    "# Solving systems of linear equations\n",
    "\n",
    "> 💜 When solving a system of linear equations of the form $\\bm{Ax} = \\bm{b}$ we're looking to find scalars $x_1, \\dots, x_2$ such that $\\sum{4}{i=1}$\n",
    "\n",
    "> 💜 A *particular solution* of a linear system is a solution to the equation with particular, arbitrary values.\n",
    "\n",
    "> 💜 A *general solution* of a system of linear equations is a formula which gives all solutions for different values of parameters. It can be found using the follwing steps\n",
    ">\n",
    "> 1. Find a particular solution to $Ax = b$\n",
    "> 2. Find all solution to $Ax = \\boldsymbol{0}$\n",
    "> 3. Combine the solutions from steps 1. and 2. to the general solution."
   ]
  },
  {
   "cell_type": "markdown",
   "metadata": {},
   "source": [
    "### Elementary transformations\n",
    "\n",
    "Elementary transformations keep the solution set the same but transforms a linear system into a simpler form.\n",
    "\n",
    "We can represent the following system of equations\n",
    "\n",
    "$\\begin{bmatrix}\n",
    "    a_{11} & \\cdots & a_{1n} \\\\\n",
    "    \\vdots & & \\vdots      \\\\\n",
    "    a_{m1} & \\cdots & a_{mn}\n",
    "\\end{bmatrix} \\begin{bmatrix}\n",
    "    x_{1} \\\\\n",
    "    \\vdots \\\\\n",
    "    x_{n}\n",
    "\\end{bmatrix} = \\begin{bmatrix}\n",
    "    b_{1} \\\\\n",
    "    \\vdots \\\\\n",
    "    b_{m}\n",
    "\\end{bmatrix}$\n",
    "\n",
    "Using this shorthand notation called the *augmented matrix* in the form $[\\bm{A} | \\bm{b}]$.\n",
    "\n",
    "$\\left[\\begin{array}{ccc|c}\n",
    "    a_{11} & \\cdots & a_{1n} & b_{1}  \\\\\n",
    "    \\vdots &        & \\vdots & \\vdots \\\\ \n",
    "    a_{m1} & \\cdots & a_{mn} & b_{m}\n",
    "\\end{array}\\right]$\n",
    "\n",
    "> 💜 Elementary transformation consists of three rules\n",
    ">\n",
    "> 1. Exchange of two equations (swapping rows in the matrix)\n",
    "> 2. Multiplication of an equation (row) with a constant $\\lambda \\in \\R \\backslash \\{0\\}$\n",
    "> 3. Addition of two equations (rows)\n",
    "\n",
    "> 💜 We use $\\leadsto$ to indicate a transformation of the augmented matrix using elementary transformations.\n",
    "\n",
    "For example\n",
    "\n",
    "$\\left[\\begin{array}{cc|c}\n",
    "    8 & 2 & 4  \\\\\n",
    "    5 & 0 & 0\n",
    "\\end{array}\\right] \\begin{matrix}\n",
    "    \\\\\n",
    "    \\cdot 2\n",
    "\\end{matrix} \\leadsto \\left[\\begin{array}{cc|c}\n",
    "    8 & 2 & 4  \\\\\n",
    "    10 & 0 & 0\n",
    "\\end{array}\\right]$"
   ]
  },
  {
   "cell_type": "markdown",
   "metadata": {},
   "source": [
    "### Row echelon form\n",
    "\n",
    "> 💜 The *leading coefficient* of a row (first nonzero number from the left) is called the *pivot* and is always strictly to the right of the pivot of the row above it.\n",
    "\n",
    "> 💜 A matrix being in row echelon form means that Gaussian elimination has operated on the rows or columns of that matrix such that:\n",
    ">\n",
    "> 1. All rows consisting of only zeroes are at the bottom.\n",
    "> 2. The *leading coefficient* (also called the *pivot*) of a nonzero row is always strictly to the right of the leading coefficient of the row above it.\n",
    "\n",
    "> 💜 The variables corresponding to the pivots in the row-echelon form are called *basic variables* and the other variables are *free variables*.\n",
    "\n",
    "> 💜 An equation is in *reduced row echelon form* (or *row cannonical form*) if every pivot is 1, the pivot is the only nonzero entry in its column (each pivot's column is a unit vector)."
   ]
  },
  {
   "cell_type": "markdown",
   "metadata": {},
   "source": [
    "### Gaussian eliminiation\n",
    "\n",
    "An algorithm that performs elementary transformations to bring a system of linear equations into reduced row-echelon form."
   ]
  },
  {
   "cell_type": "markdown",
   "metadata": {},
   "source": [
    "### The minus-1 trick\n",
    "\n",
    "For reading out the solutions $\\bm{x}$ of a homogeneous system of linear equations $\\bm{Ax} = \\bm{0}$ where $\\bm{A} \\in \\R^{m \\times n}, \\bm{x} \\in \\R^{n}$ where we assume that $\\bm{A}$ is in reduced row-elechon form without any rows that just contain zeros we can extend this matrix to a $n \\times n$ matrix $\\~{\\bm{A}}$ by inserting $n - k$ $[ 0 \\cdots -1 \\cdots 0]$ so that the diagonal of the augmented matrix $\\~{\\bm{A}}$ contains either $1$ or $-1$."
   ]
  },
  {
   "cell_type": "markdown",
   "metadata": {},
   "source": [
    "### Calculating the inverse\n",
    "\n",
    "We need to find the matrix $\\bm{X}$ that satisfies $\\bm{AX} = \\bm{I}_{n}$ We're looking for the following transformation.\n",
    "\n",
    "$\n",
    "[\\bm{A}|\\bm{I}_n] \\leadsto \\cdots \\leadsto [\\bm{I}_n|\\bm{A}^{-1}]\n",
    "$\n",
    "\n",
    "To determin the inverse of $\\bm{A}$, we write down its augmented matrix, and use Gaussian elimination to bring it into reduced row echelon form such as the desired inverse is given as its right hand side. "
   ]
  },
  {
   "cell_type": "markdown",
   "metadata": {},
   "source": [
    "### Algorithms for solving systems of linear equations\n",
    "\n",
    "In special cases we are able to determin the inverse $\\bm{A}^{-1}$ such that the solution of $\\bm{Ax} = \\bm{b}$ is given as $\\bm{x} = \\bm{A}^{-1} \\bm{b}$. In cases where $\\bm{A}$ is not a square matrix and/or non-invertible the following transformation is available.\n",
    "\n",
    "$\n",
    "\\bm{Ax} = \\bm{b} \\iff \\bm{A}^\\top \\bm{A} \\bm{x} = \\bm{A}^\\top \\bm{b} \\iff \\bm{x} = (\\bm{A}^\\top \\bm{A})^{-1} \\bm{A}^\\top b\n",
    "$\n",
    "\n",
    "However it's not recommended as it involves a lot of computations of $\\bm{A}$ as well as numerical precisions problems.\n",
    "\n",
    "Gaussian elimination plays an important role in computing determinants, checking whether a set of vectors are linearly independent, computing the inverse of a matrix, determining the basis of a vector space and computing the rank of a matrix."
   ]
  }
 ],
 "metadata": {
  "language_info": {
   "name": "python"
  },
  "orig_nbformat": 4
 },
 "nbformat": 4,
 "nbformat_minor": 2
}
