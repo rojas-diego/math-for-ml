{
 "cells": [
  {
   "cell_type": "markdown",
   "metadata": {},
   "source": [
    "# Introduction to Machine Learning\n",
    "\n",
    "**Predictors**: algorithm or system that makes predictions based on input data. Reffered to as machine learning algorithm.\n",
    "\n",
    "**Traning system**: a system that adapts some internal parameters of the predictor so that it performs well on future unseen input data. Referred to as machine learning algorithm.\n",
    "\n",
    "**Model**: typically used to describe a process for generating data, similar to the dataset at hand."
   ]
  }
 ],
 "metadata": {
  "language_info": {
   "name": "python"
  },
  "orig_nbformat": 4
 },
 "nbformat": 4,
 "nbformat_minor": 2
}
