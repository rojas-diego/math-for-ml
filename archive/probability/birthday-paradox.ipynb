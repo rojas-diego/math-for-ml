{
 "cells": [
  {
   "cell_type": "markdown",
   "metadata": {},
   "source": [
    "# The birthday paradox\n",
    "\n",
    "On average, how many people do we need together in a room to a have a higher than 50 percent chance that two of them share the same birthday.\n",
    "\n",
    "$\n",
    "P(\\text{two people share a birthday}) = \\frac{1}{365} \\approx 0.00274\n",
    "$\n",
    "\n",
    "We can try to flip this over and look at the probability of two people not sharing the same birthday.\n",
    "\n",
    "$\n",
    "P(\\text{two people don't share a birthday}) = \\frac{364}{365} \\approx 0.9973\n",
    "$\n",
    "\n",
    "With three people $\\{A, B, C\\}$, we can form three different pairs $(A, B)$, $(A, C)$ and $(C, B)$ and yet again we're looking at the probability of two people not sharing the same birthday which gives us the following product rule:\n",
    "\n",
    "$\n",
    "P(\\text{no shared birthday}) = \\left(\\frac{364}{365}\\right) \\left(\\frac{364}{365}\\right) \\left(\\frac{364}{365}\\right)\n",
    "$\n",
    "\n",
    "In turn, for $n$ comparisons, we end up with the following equation:\n",
    "\n",
    "$\n",
    "P(\\text{no shared birthday}) = {\\left(\\frac{364}{365}\\right)}^n\n",
    "$\n",
    "\n",
    "With $m$ people taken $k$ at a time we can obtain the number of pairs.\n",
    "\n",
    "$\n",
    "C(m, k) = \\binom{m}{k} = \\frac{m!}{k!(m - k)!}\n",
    "$\n",
    "\n",
    "\n",
    "With some research, we find that we need approximately 23 people."
   ]
  }
 ],
 "metadata": {
  "language_info": {
   "name": "python"
  },
  "orig_nbformat": 4
 },
 "nbformat": 4,
 "nbformat_minor": 2
}
