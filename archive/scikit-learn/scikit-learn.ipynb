{
 "cells": [
  {
   "cell_type": "markdown",
   "metadata": {},
   "source": [
    "# Introduction to scikit-learn\n",
    "\n",
    "Scikit-learn is a free software machine learning library. It features various classification, regression and clustering algorithms including support-vector machines, random forests, gradient boosting, k-means and DBSCAN, and is designed to interoperate with the Python numerical and scientific libraries NumPy and SciPy."
   ]
  },
  {
   "cell_type": "markdown",
   "metadata": {},
   "source": [
    "### Digit classifier example\n",
    "\n",
    "Here is a simple neural network which classifies small grayscale 8x8 pixels images of digits."
   ]
  },
  {
   "cell_type": "code",
   "execution_count": 3,
   "metadata": {},
   "outputs": [
    {
     "name": "stdout",
     "output_type": "stream",
     "text": [
      "score: 0.985\n",
      "errors:\n",
      "  actual: [8 6 5]\n",
      "  predicted: [1 5 9]\n"
     ]
    }
   ],
   "source": [
    "import numpy as np\n",
    "from sklearn.datasets import load_digits\n",
    "from sklearn.neural_network import MLPClassifier\n",
    "\n",
    "ds = load_digits()\n",
    "digits = ds[\"data\"]\n",
    "labels = ds[\"target\"]\n",
    "\n",
    "# Size of the training dataset\n",
    "N = 200\n",
    "\n",
    "# Shuffle the dataset\n",
    "idx = np.argsort(np.random.random(len(labels)))\n",
    "\n",
    "x_test, y_test = digits[idx[:N]], labels[idx[:N]]\n",
    "x_train, y_train = digits[idx[N:]], labels[idx[N:]]\n",
    "\n",
    "clf = MLPClassifier(hidden_layer_sizes=(128,))\n",
    "clf.fit(x_train, y_train)\n",
    "\n",
    "score = clf.score(x_test, y_test)\n",
    "pred = clf.predict(x_test)\n",
    "err = np.where(y_test != pred)[0]\n",
    "\n",
    "print(\"score:\", score)\n",
    "print(\"errors:\")\n",
    "print(\"  actual:\", y_test[err])\n",
    "print(\"  predicted:\", pred[err])"
   ]
  }
 ],
 "metadata": {
  "interpreter": {
   "hash": "422f794c2464d832f7d050fdb13adb36eae18e94bf94b92cb863ce8285d7cbac"
  },
  "kernelspec": {
   "display_name": "Python 3.8.9 ('virtualenv': venv)",
   "language": "python",
   "name": "python3"
  },
  "language_info": {
   "codemirror_mode": {
    "name": "ipython",
    "version": 3
   },
   "file_extension": ".py",
   "mimetype": "text/x-python",
   "name": "python",
   "nbconvert_exporter": "python",
   "pygments_lexer": "ipython3",
   "version": "3.8.9"
  },
  "orig_nbformat": 4
 },
 "nbformat": 4,
 "nbformat_minor": 2
}
