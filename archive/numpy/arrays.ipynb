{
 "cells": [
  {
   "cell_type": "markdown",
   "metadata": {},
   "source": [
    "# Understanding numpy arrays\n",
    "\n",
    "Numpy arrays are stored in contiguous memory as opposed to Python lists. The numpy library has a C-backend making it much faster."
   ]
  },
  {
   "cell_type": "code",
   "execution_count": null,
   "metadata": {},
   "outputs": [],
   "source": [
    "import numpy as np\n",
    "\n",
    "a = np.array([1, 2, 3, 4, 5])\n",
    "\n",
    "print(a)\n",
    "print(\"shape:\", a.shape)\n",
    "print(\"dtype:\", a.dtype)"
   ]
  },
  {
   "cell_type": "markdown",
   "metadata": {},
   "source": [
    "### Shape\n",
    "\n",
    "Numpy arrays can be have as many dimensions as you want."
   ]
  },
  {
   "cell_type": "code",
   "execution_count": null,
   "metadata": {},
   "outputs": [],
   "source": [
    "a = np.ones((5,5), \"int64\")\n",
    "\n",
    "print(a)\n",
    "print(a.shape)"
   ]
  },
  {
   "cell_type": "markdown",
   "metadata": {},
   "source": [
    "Numpy arrays can be reshaped."
   ]
  },
  {
   "cell_type": "code",
   "execution_count": null,
   "metadata": {},
   "outputs": [],
   "source": [
    "a = np.arange(12).reshape((4, 3))\n",
    "\n",
    "print(a)"
   ]
  },
  {
   "cell_type": "markdown",
   "metadata": {},
   "source": [
    "### Indexing\n",
    "\n",
    "You can access indices of a numpy array in many ways."
   ]
  },
  {
   "cell_type": "code",
   "execution_count": 23,
   "metadata": {},
   "outputs": [
    {
     "name": "stdout",
     "output_type": "stream",
     "text": [
      "a:\n",
      "[[0 1 2]\n",
      " [3 4 5]\n",
      " [6 7 8]]\n",
      "Print all of a:\n",
      "[[0 1 2]\n",
      " [3 4 5]\n",
      " [6 7 8]]\n",
      "Print first row:\n",
      "[0 1 2]\n",
      "Print first element:\n",
      "0\n",
      "Cut out:\n",
      "[[3 4 5]\n",
      " [6 7 8]]\n",
      "Up to:\n",
      "[[0 1 2]]\n",
      "Nested cut out:\n",
      "[[4 5]\n",
      " [7 8]]\n",
      "Nested cut out 2:\n",
      "[[1 2]\n",
      " [4 5]\n",
      " [7 8]]\n",
      "Negative up to:\n",
      "[[0 1]\n",
      " [3 4]\n",
      " [6 7]]\n"
     ]
    }
   ],
   "source": [
    "a = np.arange(9).reshape((3,3))\n",
    "\n",
    "print(\"a:\")\n",
    "print(a)\n",
    "\n",
    "print(\"Print all of a:\")\n",
    "print(a[:])\n",
    "\n",
    "print(\"Print first row:\")\n",
    "print(a[0])\n",
    "\n",
    "print(\"Print first element:\")\n",
    "print(a[0][0])\n",
    "\n",
    "print(\"Cut out:\")\n",
    "print(a[1:])\n",
    "\n",
    "print(\"Up to:\")\n",
    "print(a[:1])\n",
    "\n",
    "print(\"Nested cut out:\")\n",
    "print(a[1:,1:])\n",
    "\n",
    "print(\"Nested cut out 2:\")\n",
    "print(a[:,1:])\n",
    "\n",
    "print(\"Negative up to:\")\n",
    "print(a[:,:-1])\n"
   ]
  }
 ],
 "metadata": {
  "interpreter": {
   "hash": "422f794c2464d832f7d050fdb13adb36eae18e94bf94b92cb863ce8285d7cbac"
  },
  "kernelspec": {
   "display_name": "Python 3.8.9 ('virtualenv': venv)",
   "language": "python",
   "name": "python3"
  },
  "language_info": {
   "codemirror_mode": {
    "name": "ipython",
    "version": 3
   },
   "file_extension": ".py",
   "mimetype": "text/x-python",
   "name": "python",
   "nbconvert_exporter": "python",
   "pygments_lexer": "ipython3",
   "version": "3.8.9"
  },
  "orig_nbformat": 4
 },
 "nbformat": 4,
 "nbformat_minor": 2
}
