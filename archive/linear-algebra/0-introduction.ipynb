{
    "cells": [
        {
            "cell_type": "markdown",
            "metadata": {},
            "source": [
                "# Introduction to linear algebra\n",
                "\n",
                "In general, vectors are special objects that can be added together and multiplied by scalars to produce another object of the same kind. Linear alegbra is the study of those objects.\n",
                "\n",
                "Here are some examples of vector objects:\n",
                "\n",
                "### Geometric vectors\n",
                "\n",
                "Can be added such that $\\vec{x} + \\vec{y} = \\vec{z}$ or multiplied by scalars such that $\\lambda \\vec{x}$, $\\lambda \\in \\R$ \n",
                "\n",
                "### Polynomials\n",
                "\n",
                "Can be added together and multiplied by scalars.\n",
                "\n",
                "### Audio signals\n",
                "\n",
                "Can be added together and multiplied by scalars.\n",
                "\n",
                "### Elements of $\\R^n$\n",
                "\n",
                "Tuples of $n$ real numbers like the following are vectors:\n",
                "\n",
                "$\n",
                "a = \\begin{bmatrix}\n",
                "    1 \\\\\n",
                "    2 \\\\\n",
                "    3\n",
                "\\end{bmatrix} \\in \\R^3\n",
                "$\n",
                "\n",
                "Adding two vectors $a, b \\in \\R^n$ component-wise results in another vector: $a + b = c \\in \\R^n$.\n",
                "\n",
                "Moreover, multiplying $a ∈ \\R^n$ by $\\lambda \\in \\R$ results in a scaled vector $\\lambda a \\in \\R^n$."
            ]
        }
    ],
    "metadata": {
        "language_info": {
            "name": "python"
        },
        "orig_nbformat": 4
    },
    "nbformat": 4,
    "nbformat_minor": 2
}
