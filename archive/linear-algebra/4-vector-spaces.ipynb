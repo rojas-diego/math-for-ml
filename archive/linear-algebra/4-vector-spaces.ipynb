{
 "cells": [
  {
   "cell_type": "markdown",
   "metadata": {},
   "source": [
    "# Vector spaces\n",
    "\n",
    "A structured space in which vectors live."
   ]
  },
  {
   "cell_type": "markdown",
   "metadata": {},
   "source": [
    "### Groups\n",
    "\n",
    "> 💙 Consider a set $\\mathcal{G}$ and an operation $\\otimes : \\mathcal{G} \\times \\mathcal{G} \\rarr \\mathcal{G}$ defined on $\\mathcal{G}$. Then $G := (\\mathcal{G}, \\otimes)$ is called a *group* in the following hold:\n",
    ">\n",
    "> 1. *Closure* of $\\mathcal{G}$ under $\\otimes : \\forall x, y \\in \\mathcal{G} : x \\otimes y \\in \\mathcal{G}$\n",
    "> 2. *Associativity*: $\\forall x, y \\in \\mathcal{G} : (x \\otimes y) \\otimes z = x \\otimes (y \\otimes z)$\n",
    "> 3. *Neutral element*: $\\exist e \\in \\mathcal{G} \\space \\forall x \\in \\mathcal{G} : x \\otimes e = x$ and $e \\otimes x = x$\n",
    "> 4. *Inverse element*: $\\forall x \\in \\mathcal{G} \\space \\exist y \\in \\mathcal{G} : x \\otimes y = e$ and $y \\otimes x = e$ where $e$ is the neutral element. We often write $x^{-1}$ to denote the inverse of $x$ (with respect to $\\otimes$, does not necessarily mean $\\frac{1}{x}$)\n",
    "\n",
    "> 💙 If additionally $\\forall x, y \\in \\mathcal{G} : x \\otimes y = y \\otimes x$, then $G = (\\mathcal{G}, \\otimes)$ is an *Abelian group* (commutative)."
   ]
  },
  {
   "cell_type": "markdown",
   "metadata": {},
   "source": [
    "### General linear groups\n",
    "\n",
    "> 💙 The set of regular (invertible) matrices $\\bm{A} \\in \\R^{n \\times n}$ is a group **with respect to matrix multiplication** and is called general linear group $GL(n, \\R)$."
   ]
  },
  {
   "cell_type": "markdown",
   "metadata": {},
   "source": [
    "### Vector spaces\n",
    "\n",
    "> 💙 A real-valued *vector space* $V = (\\mathcal{V},+,\\cdot)$ is a set $\\mathcal{V}$ with two operations known as inner and outer operations:\n",
    "> \n",
    "> $\\begin{align} + &: \\mathcal{V} \\times \\mathcal{V} \\rarr \\mathcal{V} \\\\\n",
    "> \\cdot &: \\R \\times \\mathcal{V} \\rarr \\mathcal{V}\\end{align}$\n",
    "> \n",
    "> 1. Where $(\\mathcal{V}, +)$ is an abelian group.\n",
    "> 2. Distributivity for both operations.\n",
    "> 3. Associativity for the outer operation.\n",
    "> 4. Neutral element for the outer operation.\n",
    "\n",
    "For example, $V = \\R^{m \\times n}, m, n, \\in \\N$ is a vector space with addition defined as element-wise for all $\\bm{A}, \\bm{B} \\in V$ and multiplication is defined as scalar multiplication of $\\lambda \\bm{A}$.\n",
    "\n",
    "In general, we write $V$ to denote the vector space $(\\mathcal{V}, +, \\cdot)$ where $+$ is element-wise addition and where $\\cdot$ is multiplication by scalar."
   ]
  },
  {
   "cell_type": "markdown",
   "metadata": {},
   "source": [
    "### Vector subspaces\n",
    "\n",
    "> 💜 Let $V = (\\mathcal{V}, +, \\cdot)$ be a vector space and $\\mathcal{U} \\subseteq \\mathcal{V}, \\mathcal{U} \\neq \\cancel{0}$. Then $U = (\\mathcal{U}, +, \\cdot)$ is called a *vector subspace* of $V$ (or linear subspace) if $U$ is a vector space with the vector space operations $+$ and $\\cdot$ restricted to $\\mathcal{U} \\times \\mathcal{U}$  and $\\R \\times \\mathcal{U}$.\n",
    "\n",
    "Intuitively, *vector subspaces* are sets contained in the original vector space with the property that when we perform vector space operations on elements within this subspace, we will never leave it.\n",
    "\n",
    "> 💜 To determin whether $U = (\\mathcal{U}, +, \\cdot)$ is a subset of $V$ we need to show\n",
    ">\n",
    "> 1. $\\mathcal{U} \\neq \\cancel{0}$ in particular: $\\bm{0} \\in \\mathcal{U}$\n",
    "> 2. Closure of $U$ with respect to the outer operation: $\\forall \\lambda \\in \\R, \\forall \\bm{x} \\in \\mathcal{U}: \\lambda \\bm{x} \\in \\mathcal{U}$\n",
    "> 3. Closure of $U$ with respect to the inner operation: $\\forall \\bm{x}, \\bm{y} \\in \\mathcal{U}: \\bm{x} + \\bm{y} \\in \\mathcal{U}$\n",
    "\n",
    "> 💜 Every subspace $U \\subseteq (R^n , +, ·)$ is the solution space of a homogeneous system of linear equations $\\bm{Ax} = \\bm{0}$ for $x \\in \\R^n$."
   ]
  },
  {
   "cell_type": "markdown",
   "metadata": {},
   "source": [
    "### Linear independence\n",
    "\n",
    "> 💜 Considering a vector space $V$ and a finite number of vectors $\\bm{x}_1, \\dots, \\bm{x}_k \\in V$. Then every $\\bm{v} \\in V$ of the form:\n",
    ">\n",
    ">  $\\bm{v} = \\lambda_1 \\bm{x}_1 + \\dots + \\lambda_k \\bm{x}_k = \\sum\\limits_{i=1}^{k} \\lambda_i \\bm{x}_i \\in V$\n",
    ">\n",
    "> with $\\lambda$"
   ]
  }
 ],
 "metadata": {
  "language_info": {
   "name": "python"
  },
  "orig_nbformat": 4
 },
 "nbformat": 4,
 "nbformat_minor": 2
}
