{
 "cells": [
  {
   "cell_type": "markdown",
   "metadata": {},
   "source": [
    "# Introduction to probabilities\n",
    "\n",
    "### Terminology\n",
    "\n",
    "**Probability**: a number between 0 and 1 that measure how likely something is to happen.\n",
    "\n",
    "**Sample space**: discrete set or continuous range that represents all the possible outcomes of an event.\n",
    "\n",
    "**Event**: something that happens. Each event is a sample from the sample space.\n",
    "\n",
    "**Random variable**: a variable that takes on values from its sample space with a certain probability.\n",
    "\n",
    "### Examples\n",
    "\n",
    "The sample space of a die roll is $\\{1, 2, 3, 4, 5, 6\\}$\n",
    "\n",
    "When rolling a dice, an event can be $heads$ or $tails$ which gives us $P(X = heads) = P(X = tails) = 0.5$.\n",
    "\n",
    "## The rules of probability\n",
    "\n",
    "### Probability of an event\n",
    "\n",
    "> 💚 For any event A $0 \\leq P(A) \\leq 1$.\n",
    "\n",
    "> 💚 For all events $A_i$ in the sample space. $\\sum\\limits_i P(A_i) = 1$\n",
    "\n",
    "> 💚 The probability of an event $A$ not happening is $P(\\overline{A}) = P(A) - 1$. This is known as the $complement$ of $A$. Sometimes written as $P(\\neg A)$.\n",
    "\n",
    "> 💙 Two events $A$ and $B$ are said to be *mutually exclusive* if they can't both happen at the same time.\n",
    "\n",
    "> 💙 Two events $A$ and $B$ are said to be *independent* if their outcomes are completely unrelated.\n",
    "\n",
    "### Sum rule\n",
    "\n",
    "The sum rule is concerned with the probability of more than one mutually exclusive event happening. **It tells us the probability of either event happening**.\n",
    "\n",
    "> 💜 For mutually exclusive events $A$ and $B$ then $P(\\text{A or b}) = P(A \\cup B) = P(A) + P(B)$\n",
    "\n",
    "However if $A$ and $B$ aren't mutually exclusive we have to substract the probability where $A$ and $B$ collide.\n",
    "\n",
    "### Product rule\n",
    "\n",
    "The product rule tells us about the probability of events $A$ and $B$ happening.\n",
    "\n",
    "> 💜 $P(\\text{A and B}) = P(A \\cap B) = P(A) * P(B)$\n",
    "\n",
    "For example, the probability of a person brown eyed female being struck by lightning is:\n",
    "\n",
    "$\n",
    "P(female, \\text{brown-eyed}, lightning) = P(female)P(\\text{brown-eyed})P(lightning) = 0.5(0.8)(0.00000082) = 0.00000033 = 0.000033\\%\n",
    "$"
   ]
  }
 ],
 "metadata": {
  "interpreter": {
   "hash": "422f794c2464d832f7d050fdb13adb36eae18e94bf94b92cb863ce8285d7cbac"
  },
  "kernelspec": {
   "display_name": "Python 3.8.9 ('virtualenv': venv)",
   "language": "python",
   "name": "python3"
  },
  "language_info": {
   "codemirror_mode": {
    "name": "ipython",
    "version": 3
   },
   "file_extension": ".py",
   "mimetype": "text/x-python",
   "name": "python",
   "nbconvert_exporter": "python",
   "pygments_lexer": "ipython3",
   "version": "3.8.9"
  },
  "orig_nbformat": 4
 },
 "nbformat": 4,
 "nbformat_minor": 2
}
